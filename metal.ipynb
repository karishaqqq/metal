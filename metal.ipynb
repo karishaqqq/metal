{
 "cells": [
  {
   "cell_type": "markdown",
   "metadata": {
    "toc": true
   },
   "source": [
    "<h1>Содержание<span class=\"tocSkip\"></span></h1>\n",
    "<div class=\"toc\"><ul class=\"toc-item\"><li><ul class=\"toc-item\"><li><span><a href=\"#Описание-данных:\" data-toc-modified-id=\"Описание-данных:-0.1\"><span class=\"toc-item-num\">0.1&nbsp;&nbsp;</span>Описание данных:</a></span></li><li><span><a href=\"#Наименование-признаков\" data-toc-modified-id=\"Наименование-признаков-0.2\"><span class=\"toc-item-num\">0.2&nbsp;&nbsp;</span>Наименование признаков</a></span></li></ul></li><li><span><a href=\"#Подготовка-данных\" data-toc-modified-id=\"Подготовка-данных-1\"><span class=\"toc-item-num\">1&nbsp;&nbsp;</span>Подготовка данных</a></span><ul class=\"toc-item\"><li><span><a href=\"#-Комментарий-ревьюера-v1\" data-toc-modified-id=\"-Комментарий-ревьюера-v1-1.1\"><span class=\"toc-item-num\">1.1&nbsp;&nbsp;</span> Комментарий ревьюера v1</a></span></li><li><span><a href=\"#-Комментарий-ревьюера-v1\" data-toc-modified-id=\"-Комментарий-ревьюера-v1-1.2\"><span class=\"toc-item-num\">1.2&nbsp;&nbsp;</span> Комментарий ревьюера v1</a></span></li><li><span><a href=\"#-Комментарий-ревьюера-v1\" data-toc-modified-id=\"-Комментарий-ревьюера-v1-1.3\"><span class=\"toc-item-num\">1.3&nbsp;&nbsp;</span> Комментарий ревьюера v1</a></span></li><li><span><a href=\"#-Комментарий-студента-v1\" data-toc-modified-id=\"-Комментарий-студента-v1-1.4\"><span class=\"toc-item-num\">1.4&nbsp;&nbsp;</span> Комментарий студента v1</a></span></li></ul></li><li><span><a href=\"#Анализ-данных\" data-toc-modified-id=\"Анализ-данных-2\"><span class=\"toc-item-num\">2&nbsp;&nbsp;</span>Анализ данных</a></span><ul class=\"toc-item\"><li><span><a href=\"#-Комментарий-ревьюера-v1\" data-toc-modified-id=\"-Комментарий-ревьюера-v1-2.1\"><span class=\"toc-item-num\">2.1&nbsp;&nbsp;</span> Комментарий ревьюера v1</a></span></li><li><span><a href=\"#-Комментарий-студента-v1\" data-toc-modified-id=\"-Комментарий-студента-v1-2.2\"><span class=\"toc-item-num\">2.2&nbsp;&nbsp;</span> Комментарий студента v1</a></span></li><li><span><a href=\"#-Комментарий-ревьюера-v2\" data-toc-modified-id=\"-Комментарий-ревьюера-v2-2.3\"><span class=\"toc-item-num\">2.3&nbsp;&nbsp;</span> Комментарий ревьюера v2</a></span></li><li><span><a href=\"#-Комментарий-ревьюера-v1\" data-toc-modified-id=\"-Комментарий-ревьюера-v1-2.4\"><span class=\"toc-item-num\">2.4&nbsp;&nbsp;</span> Комментарий ревьюера v1</a></span></li><li><span><a href=\"#-Комментарий-студента-v1\" data-toc-modified-id=\"-Комментарий-студента-v1-2.5\"><span class=\"toc-item-num\">2.5&nbsp;&nbsp;</span> Комментарий студента v1</a></span></li><li><span><a href=\"#-Комментарий-ревьюера-v1\" data-toc-modified-id=\"-Комментарий-ревьюера-v1-2.6\"><span class=\"toc-item-num\">2.6&nbsp;&nbsp;</span> Комментарий ревьюера v1</a></span></li></ul></li><li><span><a href=\"#Модель\" data-toc-modified-id=\"Модель-3\"><span class=\"toc-item-num\">3&nbsp;&nbsp;</span>Модель</a></span><ul class=\"toc-item\"><li><span><a href=\"#-Комментарий-ревьюера-v1\" data-toc-modified-id=\"-Комментарий-ревьюера-v1-3.1\"><span class=\"toc-item-num\">3.1&nbsp;&nbsp;</span> Комментарий ревьюера v1</a></span></li><li><span><a href=\"#-Комментарий-ревьюера-v1\" data-toc-modified-id=\"-Комментарий-ревьюера-v1-3.2\"><span class=\"toc-item-num\">3.2&nbsp;&nbsp;</span> Комментарий ревьюера v1</a></span></li><li><span><a href=\"#-Комментарий-студента-v1\" data-toc-modified-id=\"-Комментарий-студента-v1-3.3\"><span class=\"toc-item-num\">3.3&nbsp;&nbsp;</span> Комментарий студента v1</a></span></li><li><span><a href=\"#-Комментарий-ревьюера-v1\" data-toc-modified-id=\"-Комментарий-ревьюера-v1-3.4\"><span class=\"toc-item-num\">3.4&nbsp;&nbsp;</span> Комментарий ревьюера v1</a></span></li><li><span><a href=\"#-Комментарий-студента-v1\" data-toc-modified-id=\"-Комментарий-студента-v1-3.5\"><span class=\"toc-item-num\">3.5&nbsp;&nbsp;</span> Комментарий студента v1</a></span></li><li><span><a href=\"#-Комментарий-ревьюера-v1\" data-toc-modified-id=\"-Комментарий-ревьюера-v1-3.6\"><span class=\"toc-item-num\">3.6&nbsp;&nbsp;</span> Комментарий ревьюера v1</a></span></li><li><span><a href=\"#-Комментарий-ревьюера-v1\" data-toc-modified-id=\"-Комментарий-ревьюера-v1-3.7\"><span class=\"toc-item-num\">3.7&nbsp;&nbsp;</span> Комментарий ревьюера v1</a></span></li><li><span><a href=\"#-Комментарий-студента-v1\" data-toc-modified-id=\"-Комментарий-студента-v1-3.8\"><span class=\"toc-item-num\">3.8&nbsp;&nbsp;</span> Комментарий студента v1</a></span></li><li><span><a href=\"#-Комментарий-ревьюера-v2\" data-toc-modified-id=\"-Комментарий-ревьюера-v2-3.9\"><span class=\"toc-item-num\">3.9&nbsp;&nbsp;</span> Комментарий ревьюера v2</a></span></li></ul></li><li><span><a href=\"#Чек-лист-готовности-проекта\" data-toc-modified-id=\"Чек-лист-готовности-проекта-4\"><span class=\"toc-item-num\">4&nbsp;&nbsp;</span>Чек-лист готовности проекта</a></span><ul class=\"toc-item\"><li><span><a href=\"#-Итоговый-комментарий\" data-toc-modified-id=\"-Итоговый-комментарий-4.1\"><span class=\"toc-item-num\">4.1&nbsp;&nbsp;</span> Итоговый комментарий</a></span></li><li><span><a href=\"#-Итоговый-комментарий-2\" data-toc-modified-id=\"-Итоговый-комментарий-2-4.2\"><span class=\"toc-item-num\">4.2&nbsp;&nbsp;</span> Итоговый комментарий 2</a></span></li></ul></li></ul></div>"
   ]
  },
  {
   "cell_type": "markdown",
   "metadata": {},
   "source": [
    "# Восстановление золота из руды"
   ]
  },
  {
   "cell_type": "markdown",
   "metadata": {},
   "source": [
    "Подготовьте прототип модели машинного обучения для «Цифры». Компания разрабатывает решения для эффективной работы промышленных предприятий.\n",
    "\n",
    "Модель должна предсказать коэффициент восстановления золота из золотосодержащей руды. Используйте данные с параметрами добычи и очистки. \n",
    "\n",
    "Модель поможет оптимизировать производство, чтобы не запускать предприятие с убыточными характеристиками.\n",
    "\n",
    "Вам нужно:\n",
    "\n",
    "1. Подготовить данные;\n",
    "2. Провести исследовательский анализ данных;\n",
    "3. Построить и обучить модель.\n",
    "\n",
    "Чтобы выполнить проект, обращайтесь к библиотекам *pandas*, *matplotlib* и *sklearn.* Вам поможет их документация."
   ]
  },
  {
   "cell_type": "markdown",
   "metadata": {},
   "source": [
    "### Описание данных:\n",
    "\n",
    "**Технологический процесс**\n",
    "- Rougher feed — исходное сырье\n",
    "- Rougher additions (или reagent additions) — флотационные реагенты: Xanthate, Sulphate, Depressant\n",
    "- Xanthate **— ксантогенат (промотер, или активатор флотации);\n",
    "- Sulphate — сульфат (на данном производстве сульфид натрия);\n",
    "- Depressant — депрессант (силикат натрия).\n",
    "- Rougher process (англ. «грубый процесс») — флотация\n",
    "- Rougher tails — отвальные хвосты\n",
    "- Float banks — флотационная установка\n",
    "- Cleaner process — очистка\n",
    "- Rougher Au — черновой концентрат золота\n",
    "- Final Au — финальный концентрат золота\n",
    "\n",
    "**Параметры этапов**\n",
    "- air amount — объём воздуха\n",
    "- fluid levels — уровень жидкости\n",
    "- feed size — размер гранул сырья\n",
    "- feed rate — скорость подачи"
   ]
  },
  {
   "cell_type": "markdown",
   "metadata": {},
   "source": [
    "### Наименование признаков\n",
    "\n",
    "Наименование признаков выглядит следующим образом:\n",
    "`этап.тип_параметра.название_параметра`\n",
    "\n",
    "Пример: `rougher.input.feed_ag`\n",
    "\n",
    "**Возможные значения для блока `этап`:**\n",
    "- rougher — флотация\n",
    "- primary_cleaner — первичная очистка\n",
    "- secondary_cleaner — вторичная очистка\n",
    "- final — финальные характеристики\n",
    "\n",
    "**Возможные значения для блока `тип_параметра`:**\n",
    "- input — параметры сырья\n",
    "- output — параметры продукта\n",
    "- state — параметры, характеризующие текущее состояние этапа\n",
    "- calculation — расчётные характеристики"
   ]
  },
  {
   "cell_type": "markdown",
   "metadata": {},
   "source": [
    "## Подготовка данных"
   ]
  },
  {
   "cell_type": "code",
   "execution_count": 1,
   "metadata": {},
   "outputs": [],
   "source": [
    "#импортируем необходимые библиотеки и инструменты\n",
    "import pandas as pd\n",
    "pd.options.mode.chained_assignment = None\n",
    "import numpy as np\n",
    "import matplotlib.pyplot as plt\n",
    "import seaborn as sns\n",
    "from sklearn.metrics import mean_absolute_error, accuracy_score\n",
    "from sklearn.preprocessing import StandardScaler\n",
    "from sklearn.model_selection import train_test_split, cross_val_score\n",
    "from sklearn.linear_model import LinearRegression\n",
    "from sklearn.ensemble import RandomForestRegressor\n",
    "from sklearn.tree import DecisionTreeRegressor\n",
    "from catboost import CatBoostRegressor\n",
    "from sklearn.dummy import DummyRegressor"
   ]
  },
  {
   "cell_type": "markdown",
   "metadata": {},
   "source": [
    "Необходимые данные находятся в трёх файлах - это исходные данные, обучающая и тестовая выборки. Загрузим их."
   ]
  },
  {
   "cell_type": "code",
   "execution_count": 2,
   "metadata": {},
   "outputs": [],
   "source": [
    "train = pd.read_csv('/datasets/gold_recovery_train_new.csv')\n",
    "test = pd.read_csv('/datasets/gold_recovery_test_new.csv')\n",
    "full_data = pd.read_csv('/datasets/gold_recovery_full_new.csv')"
   ]
  },
  {
   "cell_type": "code",
   "execution_count": 3,
   "metadata": {},
   "outputs": [
    {
     "name": "stdout",
     "output_type": "stream",
     "text": [
      "<class 'pandas.core.frame.DataFrame'>\n",
      "RangeIndex: 19439 entries, 0 to 19438\n",
      "Data columns (total 87 columns):\n",
      " #   Column                                              Non-Null Count  Dtype  \n",
      "---  ------                                              --------------  -----  \n",
      " 0   date                                                19439 non-null  object \n",
      " 1   final.output.concentrate_ag                         19438 non-null  float64\n",
      " 2   final.output.concentrate_pb                         19438 non-null  float64\n",
      " 3   final.output.concentrate_sol                        19228 non-null  float64\n",
      " 4   final.output.concentrate_au                         19439 non-null  float64\n",
      " 5   final.output.recovery                               19439 non-null  float64\n",
      " 6   final.output.tail_ag                                19438 non-null  float64\n",
      " 7   final.output.tail_pb                                19338 non-null  float64\n",
      " 8   final.output.tail_sol                               19433 non-null  float64\n",
      " 9   final.output.tail_au                                19439 non-null  float64\n",
      " 10  primary_cleaner.input.sulfate                       19415 non-null  float64\n",
      " 11  primary_cleaner.input.depressant                    19402 non-null  float64\n",
      " 12  primary_cleaner.input.feed_size                     19439 non-null  float64\n",
      " 13  primary_cleaner.input.xanthate                      19335 non-null  float64\n",
      " 14  primary_cleaner.output.concentrate_ag               19439 non-null  float64\n",
      " 15  primary_cleaner.output.concentrate_pb               19323 non-null  float64\n",
      " 16  primary_cleaner.output.concentrate_sol              19069 non-null  float64\n",
      " 17  primary_cleaner.output.concentrate_au               19439 non-null  float64\n",
      " 18  primary_cleaner.output.tail_ag                      19435 non-null  float64\n",
      " 19  primary_cleaner.output.tail_pb                      19418 non-null  float64\n",
      " 20  primary_cleaner.output.tail_sol                     19377 non-null  float64\n",
      " 21  primary_cleaner.output.tail_au                      19439 non-null  float64\n",
      " 22  primary_cleaner.state.floatbank8_a_air              19435 non-null  float64\n",
      " 23  primary_cleaner.state.floatbank8_a_level            19438 non-null  float64\n",
      " 24  primary_cleaner.state.floatbank8_b_air              19435 non-null  float64\n",
      " 25  primary_cleaner.state.floatbank8_b_level            19438 non-null  float64\n",
      " 26  primary_cleaner.state.floatbank8_c_air              19437 non-null  float64\n",
      " 27  primary_cleaner.state.floatbank8_c_level            19438 non-null  float64\n",
      " 28  primary_cleaner.state.floatbank8_d_air              19436 non-null  float64\n",
      " 29  primary_cleaner.state.floatbank8_d_level            19438 non-null  float64\n",
      " 30  rougher.calculation.sulfate_to_au_concentrate       19437 non-null  float64\n",
      " 31  rougher.calculation.floatbank10_sulfate_to_au_feed  19437 non-null  float64\n",
      " 32  rougher.calculation.floatbank11_sulfate_to_au_feed  19437 non-null  float64\n",
      " 33  rougher.calculation.au_pb_ratio                     19439 non-null  float64\n",
      " 34  rougher.input.feed_ag                               19439 non-null  float64\n",
      " 35  rougher.input.feed_pb                               19339 non-null  float64\n",
      " 36  rougher.input.feed_rate                             19428 non-null  float64\n",
      " 37  rougher.input.feed_size                             19294 non-null  float64\n",
      " 38  rougher.input.feed_sol                              19340 non-null  float64\n",
      " 39  rougher.input.feed_au                               19439 non-null  float64\n",
      " 40  rougher.input.floatbank10_sulfate                   19405 non-null  float64\n",
      " 41  rougher.input.floatbank10_xanthate                  19431 non-null  float64\n",
      " 42  rougher.input.floatbank11_sulfate                   19395 non-null  float64\n",
      " 43  rougher.input.floatbank11_xanthate                  18986 non-null  float64\n",
      " 44  rougher.output.concentrate_ag                       19439 non-null  float64\n",
      " 45  rougher.output.concentrate_pb                       19439 non-null  float64\n",
      " 46  rougher.output.concentrate_sol                      19416 non-null  float64\n",
      " 47  rougher.output.concentrate_au                       19439 non-null  float64\n",
      " 48  rougher.output.recovery                             19439 non-null  float64\n",
      " 49  rougher.output.tail_ag                              19438 non-null  float64\n",
      " 50  rougher.output.tail_pb                              19439 non-null  float64\n",
      " 51  rougher.output.tail_sol                             19439 non-null  float64\n",
      " 52  rougher.output.tail_au                              19439 non-null  float64\n",
      " 53  rougher.state.floatbank10_a_air                     19438 non-null  float64\n",
      " 54  rougher.state.floatbank10_a_level                   19438 non-null  float64\n",
      " 55  rougher.state.floatbank10_b_air                     19438 non-null  float64\n",
      " 56  rougher.state.floatbank10_b_level                   19438 non-null  float64\n",
      " 57  rougher.state.floatbank10_c_air                     19438 non-null  float64\n",
      " 58  rougher.state.floatbank10_c_level                   19438 non-null  float64\n",
      " 59  rougher.state.floatbank10_d_air                     19439 non-null  float64\n",
      " 60  rougher.state.floatbank10_d_level                   19439 non-null  float64\n",
      " 61  rougher.state.floatbank10_e_air                     19003 non-null  float64\n",
      " 62  rougher.state.floatbank10_e_level                   19439 non-null  float64\n",
      " 63  rougher.state.floatbank10_f_air                     19439 non-null  float64\n",
      " 64  rougher.state.floatbank10_f_level                   19439 non-null  float64\n",
      " 65  secondary_cleaner.output.tail_ag                    19437 non-null  float64\n",
      " 66  secondary_cleaner.output.tail_pb                    19427 non-null  float64\n",
      " 67  secondary_cleaner.output.tail_sol                   17691 non-null  float64\n",
      " 68  secondary_cleaner.output.tail_au                    19439 non-null  float64\n",
      " 69  secondary_cleaner.state.floatbank2_a_air            19219 non-null  float64\n",
      " 70  secondary_cleaner.state.floatbank2_a_level          19438 non-null  float64\n",
      " 71  secondary_cleaner.state.floatbank2_b_air            19416 non-null  float64\n",
      " 72  secondary_cleaner.state.floatbank2_b_level          19438 non-null  float64\n",
      " 73  secondary_cleaner.state.floatbank3_a_air            19426 non-null  float64\n",
      " 74  secondary_cleaner.state.floatbank3_a_level          19438 non-null  float64\n",
      " 75  secondary_cleaner.state.floatbank3_b_air            19438 non-null  float64\n",
      " 76  secondary_cleaner.state.floatbank3_b_level          19438 non-null  float64\n",
      " 77  secondary_cleaner.state.floatbank4_a_air            19433 non-null  float64\n",
      " 78  secondary_cleaner.state.floatbank4_a_level          19438 non-null  float64\n",
      " 79  secondary_cleaner.state.floatbank4_b_air            19438 non-null  float64\n",
      " 80  secondary_cleaner.state.floatbank4_b_level          19438 non-null  float64\n",
      " 81  secondary_cleaner.state.floatbank5_a_air            19438 non-null  float64\n",
      " 82  secondary_cleaner.state.floatbank5_a_level          19438 non-null  float64\n",
      " 83  secondary_cleaner.state.floatbank5_b_air            19438 non-null  float64\n",
      " 84  secondary_cleaner.state.floatbank5_b_level          19438 non-null  float64\n",
      " 85  secondary_cleaner.state.floatbank6_a_air            19437 non-null  float64\n",
      " 86  secondary_cleaner.state.floatbank6_a_level          19438 non-null  float64\n",
      "dtypes: float64(86), object(1)\n",
      "memory usage: 12.9+ MB\n"
     ]
    }
   ],
   "source": [
    "#ознакомимся с данными\n",
    "full_data.info()"
   ]
  },
  {
   "cell_type": "markdown",
   "metadata": {},
   "source": [
    "В рамках подготовки данных нам необходимо проверить формулу вычисления эффективности обогащения. Формула выглядит так:"
   ]
  },
  {
   "cell_type": "markdown",
   "metadata": {},
   "source": [
    "recovery = ((C * (F - T)) / (F * (C - T))) * 100%"
   ]
  },
  {
   "cell_type": "markdown",
   "metadata": {},
   "source": [
    "где:\n",
    "\n",
    "- C — доля золота в концентрате после флотации/очистки;\n",
    "- F — доля золота в сырье/концентрате до флотации/очистки;\n",
    "- T — доля золота в отвальных хвостах после флотации/очистки."
   ]
  },
  {
   "cell_type": "markdown",
   "metadata": {},
   "source": [
    "Основываясь на полученных от компании данных, необходимые нам признаки для проверки формулы это:\n",
    "- rougher.output.concentrate_au (С)\n",
    "- rougher.input.feed_au (F)\n",
    "- rougher.output.tail_au (T)\n",
    "\n",
    "А сам результат работы формулы находится здесь:\n",
    "- rougher.output.recovery "
   ]
  },
  {
   "cell_type": "markdown",
   "metadata": {},
   "source": [
    "Проверим, что эффективность обогащения рассчитана правильно. Вычислим её на обучающей выборке для признака `rougher.output.recovery`. Найдем MAE между нашими расчётами и значением признака."
   ]
  },
  {
   "cell_type": "markdown",
   "metadata": {},
   "source": [
    "Создадим новый столбец с результатом вычисления эффективности обогащения по формуле."
   ]
  },
  {
   "cell_type": "code",
   "execution_count": 4,
   "metadata": {},
   "outputs": [],
   "source": [
    "#избавимся от пропусков в столбце rougher.output.recovery\n",
    "train.dropna(subset = ['rougher.output.recovery'], inplace = True)"
   ]
  },
  {
   "cell_type": "code",
   "execution_count": 5,
   "metadata": {},
   "outputs": [],
   "source": [
    "C = train['rougher.output.concentrate_au']\n",
    "F = train['rougher.input.feed_au']\n",
    "T = train['rougher.output.tail_au']"
   ]
  },
  {
   "cell_type": "code",
   "execution_count": 6,
   "metadata": {},
   "outputs": [],
   "source": [
    "calculation = ((C * (F - T)) / (F * (C - T))) * 100"
   ]
  },
  {
   "cell_type": "markdown",
   "metadata": {},
   "source": [
    "Построим гистограммы для двух наборов значений recovery - старого и нового."
   ]
  },
  {
   "cell_type": "code",
   "execution_count": 7,
   "metadata": {},
   "outputs": [],
   "source": [
    "old_recovery = train['rougher.output.recovery']"
   ]
  },
  {
   "cell_type": "code",
   "execution_count": 8,
   "metadata": {},
   "outputs": [
    {
     "data": {
      "text/plain": [
       "<AxesSubplot:>"
      ]
     },
     "execution_count": 8,
     "metadata": {},
     "output_type": "execute_result"
    },
    {
     "data": {
      "image/png": "[encoded data removed]",
      "text/plain": [
       "<Figure size 432x288 with 1 Axes>"
      ]
     },
     "metadata": {
      "needs_background": "light"
     },
     "output_type": "display_data"
    }
   ],
   "source": [
    "train['rougher.output.recovery'].hist(bins=50, range=(0, 125))"
   ]
  },
  {
   "cell_type": "code",
   "execution_count": 9,
   "metadata": {},
   "outputs": [
    {
     "data": {
      "text/plain": [
       "<AxesSubplot:>"
      ]
     },
     "execution_count": 9,
     "metadata": {},
     "output_type": "execute_result"
    },
    {
     "data": {
      "image/png": "[encoded data removed]",
      "text/plain": [
       "<Figure size 432x288 with 1 Axes>"
      ]
     },
     "metadata": {
      "needs_background": "light"
     },
     "output_type": "display_data"
    }
   ],
   "source": [
    "calculation.hist(bins=50, range=(0, 125))"
   ]
  },
  {
   "cell_type": "markdown",
   "metadata": {},
   "source": [
    "На графиках нет различия в распределении старых и новых данных. Посчитаем MAE и посмотрим на среднее абсолютное отклонение."
   ]
  },
  {
   "cell_type": "code",
   "execution_count": 10,
   "metadata": {
    "scrolled": true
   },
   "outputs": [
    {
     "name": "stdout",
     "output_type": "stream",
     "text": [
      "MAE: 9.73512347450521e-15\n"
     ]
    }
   ],
   "source": [
    "print('MAE:', mean_absolute_error(old_recovery, calculation))"
   ]
  },
  {
   "cell_type": "markdown",
   "metadata": {},
   "source": [
    "Среднее абсолютное отклонение ничтожно мало. Различий между данными действительно нет, рассчеты верны."
   ]
  },
  {
   "cell_type": "markdown",
   "metadata": {},
   "source": [
    "Сравним наполнение обучающей и тестовой выборок."
   ]
  },
  {
   "cell_type": "code",
   "execution_count": 11,
   "metadata": {
    "scrolled": true
   },
   "outputs": [
    {
     "name": "stdout",
     "output_type": "stream",
     "text": [
      "(14149, 87)\n",
      "(5290, 53)\n"
     ]
    }
   ],
   "source": [
    "print(train.shape)\n",
    "print(test.shape)"
   ]
  },
  {
   "cell_type": "markdown",
   "metadata": {},
   "source": [
    "В обущающей выборке признаков гораздо больше. Проанализируем те признаки, которые недоступны в тестовой выборке."
   ]
  },
  {
   "cell_type": "code",
   "execution_count": 12,
   "metadata": {
    "scrolled": true
   },
   "outputs": [
    {
     "data": {
      "text/html": [
       "<div>\n",
       "<style scoped>\n",
       "    .dataframe tbody tr th:only-of-type {\n",
       "        vertical-align: middle;\n",
       "    }\n",
       "\n",
       "    .dataframe tbody tr th {\n",
       "        vertical-align: top;\n",
       "    }\n",
       "\n",
       "    .dataframe thead th {\n",
       "        text-align: right;\n",
       "    }\n",
       "</style>\n",
       "<table border=\"1\" class=\"dataframe\">\n",
       "  <thead>\n",
       "    <tr style=\"text-align: right;\">\n",
       "      <th></th>\n",
       "      <th>final.output.concentrate_ag</th>\n",
       "      <th>final.output.concentrate_pb</th>\n",
       "      <th>final.output.concentrate_sol</th>\n",
       "      <th>final.output.concentrate_au</th>\n",
       "      <th>final.output.recovery</th>\n",
       "      <th>final.output.tail_ag</th>\n",
       "      <th>final.output.tail_pb</th>\n",
       "      <th>final.output.tail_sol</th>\n",
       "      <th>final.output.tail_au</th>\n",
       "      <th>primary_cleaner.output.concentrate_ag</th>\n",
       "      <th>...</th>\n",
       "      <th>rougher.output.concentrate_au</th>\n",
       "      <th>rougher.output.recovery</th>\n",
       "      <th>rougher.output.tail_ag</th>\n",
       "      <th>rougher.output.tail_pb</th>\n",
       "      <th>rougher.output.tail_sol</th>\n",
       "      <th>rougher.output.tail_au</th>\n",
       "      <th>secondary_cleaner.output.tail_ag</th>\n",
       "      <th>secondary_cleaner.output.tail_pb</th>\n",
       "      <th>secondary_cleaner.output.tail_sol</th>\n",
       "      <th>secondary_cleaner.output.tail_au</th>\n",
       "    </tr>\n",
       "  </thead>\n",
       "  <tbody>\n",
       "    <tr>\n",
       "      <th>0</th>\n",
       "      <td>6.055403</td>\n",
       "      <td>9.889648</td>\n",
       "      <td>5.507324</td>\n",
       "      <td>42.192020</td>\n",
       "      <td>70.541216</td>\n",
       "      <td>10.411962</td>\n",
       "      <td>0.895447</td>\n",
       "      <td>16.904297</td>\n",
       "      <td>2.143149</td>\n",
       "      <td>8.547551</td>\n",
       "      <td>...</td>\n",
       "      <td>19.793808</td>\n",
       "      <td>87.107763</td>\n",
       "      <td>5.008018</td>\n",
       "      <td>0.508728</td>\n",
       "      <td>19.154297</td>\n",
       "      <td>1.170244</td>\n",
       "      <td>14.500184</td>\n",
       "      <td>4.694824</td>\n",
       "      <td>8.764648</td>\n",
       "      <td>2.606185</td>\n",
       "    </tr>\n",
       "    <tr>\n",
       "      <th>1</th>\n",
       "      <td>6.029369</td>\n",
       "      <td>9.968944</td>\n",
       "      <td>5.257781</td>\n",
       "      <td>42.701629</td>\n",
       "      <td>69.266198</td>\n",
       "      <td>10.462676</td>\n",
       "      <td>0.927452</td>\n",
       "      <td>16.634514</td>\n",
       "      <td>2.224930</td>\n",
       "      <td>8.558743</td>\n",
       "      <td>...</td>\n",
       "      <td>20.050975</td>\n",
       "      <td>86.843261</td>\n",
       "      <td>4.955378</td>\n",
       "      <td>0.536689</td>\n",
       "      <td>18.965234</td>\n",
       "      <td>1.184827</td>\n",
       "      <td>14.265474</td>\n",
       "      <td>4.592547</td>\n",
       "      <td>9.001494</td>\n",
       "      <td>2.488248</td>\n",
       "    </tr>\n",
       "    <tr>\n",
       "      <th>2</th>\n",
       "      <td>6.055926</td>\n",
       "      <td>10.213995</td>\n",
       "      <td>5.383759</td>\n",
       "      <td>42.657501</td>\n",
       "      <td>68.116445</td>\n",
       "      <td>10.507046</td>\n",
       "      <td>0.953716</td>\n",
       "      <td>16.208849</td>\n",
       "      <td>2.257889</td>\n",
       "      <td>8.603505</td>\n",
       "      <td>...</td>\n",
       "      <td>19.737170</td>\n",
       "      <td>86.842308</td>\n",
       "      <td>4.843460</td>\n",
       "      <td>0.546416</td>\n",
       "      <td>18.808533</td>\n",
       "      <td>1.162562</td>\n",
       "      <td>14.115662</td>\n",
       "      <td>4.624775</td>\n",
       "      <td>8.842896</td>\n",
       "      <td>2.458187</td>\n",
       "    </tr>\n",
       "    <tr>\n",
       "      <th>3</th>\n",
       "      <td>6.047977</td>\n",
       "      <td>9.977019</td>\n",
       "      <td>4.858634</td>\n",
       "      <td>42.689819</td>\n",
       "      <td>68.347543</td>\n",
       "      <td>10.422762</td>\n",
       "      <td>0.883763</td>\n",
       "      <td>16.532835</td>\n",
       "      <td>2.146849</td>\n",
       "      <td>7.221879</td>\n",
       "      <td>...</td>\n",
       "      <td>19.320810</td>\n",
       "      <td>87.226430</td>\n",
       "      <td>4.655288</td>\n",
       "      <td>0.542525</td>\n",
       "      <td>19.330200</td>\n",
       "      <td>1.079755</td>\n",
       "      <td>13.732071</td>\n",
       "      <td>4.482453</td>\n",
       "      <td>9.122857</td>\n",
       "      <td>2.322062</td>\n",
       "    </tr>\n",
       "    <tr>\n",
       "      <th>4</th>\n",
       "      <td>6.148599</td>\n",
       "      <td>10.142511</td>\n",
       "      <td>4.939416</td>\n",
       "      <td>42.774141</td>\n",
       "      <td>66.927016</td>\n",
       "      <td>10.360302</td>\n",
       "      <td>0.792826</td>\n",
       "      <td>16.525686</td>\n",
       "      <td>2.055292</td>\n",
       "      <td>9.089428</td>\n",
       "      <td>...</td>\n",
       "      <td>19.216101</td>\n",
       "      <td>86.688794</td>\n",
       "      <td>4.552800</td>\n",
       "      <td>0.515438</td>\n",
       "      <td>19.267422</td>\n",
       "      <td>1.012642</td>\n",
       "      <td>14.079996</td>\n",
       "      <td>4.470737</td>\n",
       "      <td>8.871028</td>\n",
       "      <td>2.330448</td>\n",
       "    </tr>\n",
       "  </tbody>\n",
       "</table>\n",
       "<p>5 rows × 34 columns</p>\n",
       "</div>"
      ],
      "text/plain": [
       "   final.output.concentrate_ag  final.output.concentrate_pb  \\\n",
       "0                     6.055403                     9.889648   \n",
       "1                     6.029369                     9.968944   \n",
       "2                     6.055926                    10.213995   \n",
       "3                     6.047977                     9.977019   \n",
       "4                     6.148599                    10.142511   \n",
       "\n",
       "   final.output.concentrate_sol  final.output.concentrate_au  \\\n",
       "0                      5.507324                    42.192020   \n",
       "1                      5.257781                    42.701629   \n",
       "2                      5.383759                    42.657501   \n",
       "3                      4.858634                    42.689819   \n",
       "4                      4.939416                    42.774141   \n",
       "\n",
       "   final.output.recovery  final.output.tail_ag  final.output.tail_pb  \\\n",
       "0              70.541216             10.411962              0.895447   \n",
       "1              69.266198             10.462676              0.927452   \n",
       "2              68.116445             10.507046              0.953716   \n",
       "3              68.347543             10.422762              0.883763   \n",
       "4              66.927016             10.360302              0.792826   \n",
       "\n",
       "   final.output.tail_sol  final.output.tail_au  \\\n",
       "0              16.904297              2.143149   \n",
       "1              16.634514              2.224930   \n",
       "2              16.208849              2.257889   \n",
       "3              16.532835              2.146849   \n",
       "4              16.525686              2.055292   \n",
       "\n",
       "   primary_cleaner.output.concentrate_ag  ...  rougher.output.concentrate_au  \\\n",
       "0                               8.547551  ...                      19.793808   \n",
       "1                               8.558743  ...                      20.050975   \n",
       "2                               8.603505  ...                      19.737170   \n",
       "3                               7.221879  ...                      19.320810   \n",
       "4                               9.089428  ...                      19.216101   \n",
       "\n",
       "   rougher.output.recovery  rougher.output.tail_ag  rougher.output.tail_pb  \\\n",
       "0                87.107763                5.008018                0.508728   \n",
       "1                86.843261                4.955378                0.536689   \n",
       "2                86.842308                4.843460                0.546416   \n",
       "3                87.226430                4.655288                0.542525   \n",
       "4                86.688794                4.552800                0.515438   \n",
       "\n",
       "   rougher.output.tail_sol  rougher.output.tail_au  \\\n",
       "0                19.154297                1.170244   \n",
       "1                18.965234                1.184827   \n",
       "2                18.808533                1.162562   \n",
       "3                19.330200                1.079755   \n",
       "4                19.267422                1.012642   \n",
       "\n",
       "   secondary_cleaner.output.tail_ag  secondary_cleaner.output.tail_pb  \\\n",
       "0                         14.500184                          4.694824   \n",
       "1                         14.265474                          4.592547   \n",
       "2                         14.115662                          4.624775   \n",
       "3                         13.732071                          4.482453   \n",
       "4                         14.079996                          4.470737   \n",
       "\n",
       "   secondary_cleaner.output.tail_sol  secondary_cleaner.output.tail_au  \n",
       "0                           8.764648                          2.606185  \n",
       "1                           9.001494                          2.488248  \n",
       "2                           8.842896                          2.458187  \n",
       "3                           9.122857                          2.322062  \n",
       "4                           8.871028                          2.330448  \n",
       "\n",
       "[5 rows x 34 columns]"
      ]
     },
     "execution_count": 12,
     "metadata": {},
     "output_type": "execute_result"
    }
   ],
   "source": [
    "missing_cols = train.columns.drop(test.columns)\n",
    "train[missing_cols].head()"
   ]
  },
  {
   "cell_type": "markdown",
   "metadata": {},
   "source": [
    "По сути, все эти столбцы - целевые признаки (в зависимости от того, что именно мы предсказываем). Это концентрация различных веществ на выходе после отчистки, а также доля веществ в отвальных хвостах."
   ]
  },
  {
   "cell_type": "markdown",
   "metadata": {},
   "source": [
    "Выходит, у нас есть 53 признака (те, что в тестовой выборке) и 2 целевых признака, как по условию - `rougher.output.recovery` и `final.output.recovery`. Осталось убрать из обучающей выборки ненужные признаки и добавить целевые признаки в тестовую выборку."
   ]
  },
  {
   "cell_type": "code",
   "execution_count": 13,
   "metadata": {},
   "outputs": [],
   "source": [
    "cols_to_drop = missing_cols.drop(['final.output.recovery', 'rougher.output.recovery'])\n",
    "right_cols = train.columns.drop(cols_to_drop)\n",
    "train = train[right_cols]"
   ]
  },
  {
   "cell_type": "markdown",
   "metadata": {},
   "source": [
    "Обучающая выборка готова, теперь займемся тестовой. Столбец date в исходных данных содержит уникальные значения. Будем использовать эти значения как индексы, чтобы объединить датасеты и добавить в тестовую выборку недостающую информацию."
   ]
  },
  {
   "cell_type": "code",
   "execution_count": 14,
   "metadata": {},
   "outputs": [],
   "source": [
    "target_features_to_join = full_data[['date', 'final.output.recovery', 'rougher.output.recovery']].copy()"
   ]
  },
  {
   "cell_type": "code",
   "execution_count": 15,
   "metadata": {},
   "outputs": [],
   "source": [
    "test = test.join(target_features_to_join.set_index('date'), on='date')"
   ]
  },
  {
   "cell_type": "code",
   "execution_count": 16,
   "metadata": {},
   "outputs": [
    {
     "data": {
      "text/plain": [
       "False    14149\n",
       "Name: final.output.recovery, dtype: int64"
      ]
     },
     "execution_count": 16,
     "metadata": {},
     "output_type": "execute_result"
    }
   ],
   "source": [
    "train['final.output.recovery'].isnull().value_counts()"
   ]
  },
  {
   "cell_type": "code",
   "execution_count": 17,
   "metadata": {},
   "outputs": [
    {
     "data": {
      "text/plain": [
       "False    5290\n",
       "Name: final.output.recovery, dtype: int64"
      ]
     },
     "execution_count": 17,
     "metadata": {},
     "output_type": "execute_result"
    }
   ],
   "source": [
    "test['final.output.recovery'].isnull().value_counts()"
   ]
  },
  {
   "cell_type": "markdown",
   "metadata": {},
   "source": [
    "На примере столбца final.output.recovery видим, что в обеих выборках есть отсутствующие данные. Избавимся от значений NaN в целевых признаках обеих выборок - такие данные не несут пользы."
   ]
  },
  {
   "cell_type": "code",
   "execution_count": 18,
   "metadata": {},
   "outputs": [],
   "source": [
    "train.dropna(subset = ['final.output.recovery', 'rougher.output.recovery'], inplace = True)\n",
    "test.dropna(subset = ['final.output.recovery', 'rougher.output.recovery'], inplace = True)"
   ]
  },
  {
   "cell_type": "code",
   "execution_count": 19,
   "metadata": {},
   "outputs": [],
   "source": [
    "test.reset_index(drop=True, inplace=True)\n",
    "train.reset_index(drop=True, inplace=True)"
   ]
  },
  {
   "cell_type": "code",
   "execution_count": 20,
   "metadata": {},
   "outputs": [
    {
     "name": "stdout",
     "output_type": "stream",
     "text": [
      "(14149, 55)\n",
      "(5290, 55)\n"
     ]
    }
   ],
   "source": [
    "print(train.shape)\n",
    "print(test.shape)"
   ]
  },
  {
   "cell_type": "markdown",
   "metadata": {},
   "source": [
    "Теперь у нас есть готовые обучающая и тестовая выборки, состоящие из необходимых столбцов и очищенные от наблюдений с пропусками в целевых признаках."
   ]
  },
  {
   "cell_type": "markdown",
   "metadata": {},
   "source": [
    "## Анализ данных"
   ]
  },
  {
   "cell_type": "markdown",
   "metadata": {},
   "source": [
    "Посмотрим, как меняется концентрация металлов (Au, Ag, Pb) на различных этапах очистки."
   ]
  },
  {
   "cell_type": "code",
   "execution_count": 21,
   "metadata": {},
   "outputs": [],
   "source": [
    "#подготовим датасет с необходимыми данными для золота\n",
    "au_data = (full_data[[\n",
    "    'rougher.input.feed_au', \n",
    "    'rougher.output.concentrate_au', \n",
    "    'primary_cleaner.output.concentrate_au', \n",
    "    'final.output.concentrate_au']].copy())"
   ]
  },
  {
   "cell_type": "code",
   "execution_count": 22,
   "metadata": {
    "scrolled": true
   },
   "outputs": [],
   "source": [
    "#серебра\n",
    "ag_data = (full_data[[\n",
    "    'rougher.input.feed_ag', \n",
    "    'rougher.output.concentrate_ag', \n",
    "    'primary_cleaner.output.concentrate_ag', \n",
    "    'final.output.concentrate_ag']].copy())"
   ]
  },
  {
   "cell_type": "code",
   "execution_count": 23,
   "metadata": {
    "scrolled": true
   },
   "outputs": [],
   "source": [
    "#свинца\n",
    "pb_data = (full_data[[\n",
    "    'rougher.input.feed_pb', \n",
    "    'rougher.output.concentrate_pb', \n",
    "    'primary_cleaner.output.concentrate_pb', \n",
    "    'final.output.concentrate_pb']].copy())"
   ]
  },
  {
   "cell_type": "code",
   "execution_count": 24,
   "metadata": {},
   "outputs": [],
   "source": [
    "#напишем функцию, которая будет рисовать данные всех четырех столбцов на одном графике\n",
    "def draw_hist (data, title):\n",
    "    fig, ax = plt.subplots()\n",
    "    ax.set_ylabel('Кол-во наблюдений')\n",
    "    ax.set_xlabel('Концентрация металла')\n",
    "    ax.set_title(title)\n",
    "    for col in data:\n",
    "        data[col].hist(alpha=.3) \n",
    "        ax.legend(['Исходное сырье','Флотация','Первичная очистка', 'Вторичная очистка'])"
   ]
  },
  {
   "cell_type": "code",
   "execution_count": 25,
   "metadata": {},
   "outputs": [
    {
     "data": {
      "image/png": "[encoded data removed]",
      "text/plain": [
       "<Figure size 432x288 with 1 Axes>"
      ]
     },
     "metadata": {
      "needs_background": "light"
     },
     "output_type": "display_data"
    }
   ],
   "source": [
    "draw_hist(au_data, 'Золото')"
   ]
  },
  {
   "cell_type": "code",
   "execution_count": 26,
   "metadata": {},
   "outputs": [
    {
     "data": {
      "image/png": "[encoded data removed]",
      "text/plain": [
       "<Figure size 432x288 with 1 Axes>"
      ]
     },
     "metadata": {
      "needs_background": "light"
     },
     "output_type": "display_data"
    }
   ],
   "source": [
    "draw_hist(ag_data, 'Серебро')"
   ]
  },
  {
   "cell_type": "code",
   "execution_count": 27,
   "metadata": {
    "scrolled": true
   },
   "outputs": [
    {
     "data": {
      "image/png": "[encoded data removed]",
      "text/plain": [
       "<Figure size 432x288 with 1 Axes>"
      ]
     },
     "metadata": {
      "needs_background": "light"
     },
     "output_type": "display_data"
    }
   ],
   "source": [
    "draw_hist(pb_data, 'Свинец')"
   ]
  },
  {
   "cell_type": "markdown",
   "metadata": {},
   "source": [
    "По графикам можем определить следующее:\n",
    "1. для разных металлов концентрация на различных этапах очистки отличается. Например, концентрация золота увеличивается с каждым этапом. Концентрация серебра после вторичной очистки меньше, чем в исходном сырье. А у свинца результаты первичной и вторичной очистки почти идентичны.\n",
    "\n",
    "2. в данных много нулевых значений. Скорее всего, для таких наблюдений не были сделаны замеры по какой-то причине, либо эти данные утрачены. Впоследствии нужно будет избавиться от таких данных, они могут повлиять на качество модели."
   ]
  },
  {
   "cell_type": "markdown",
   "metadata": {},
   "source": [
    "У нас есть два признака с параметром `feed_size` в обучающей и тестовой выборках -  `rougher.input.feed_size` и `primary_cleaner.input.feed_size`. Сравним их распределения. Если они сильно отличаются друг от друга, оценка модели будет неправильной."
   ]
  },
  {
   "cell_type": "code",
   "execution_count": 32,
   "metadata": {},
   "outputs": [
    {
     "data": {
      "text/html": [
       "<div>\n",
       "<style scoped>\n",
       "    .dataframe tbody tr th:only-of-type {\n",
       "        vertical-align: middle;\n",
       "    }\n",
       "\n",
       "    .dataframe tbody tr th {\n",
       "        vertical-align: top;\n",
       "    }\n",
       "\n",
       "    .dataframe thead th {\n",
       "        text-align: right;\n",
       "    }\n",
       "</style>\n",
       "<table border=\"1\" class=\"dataframe\">\n",
       "  <thead>\n",
       "    <tr style=\"text-align: right;\">\n",
       "      <th></th>\n",
       "      <th>train</th>\n",
       "      <th>test</th>\n",
       "    </tr>\n",
       "  </thead>\n",
       "  <tbody>\n",
       "    <tr>\n",
       "      <th>count</th>\n",
       "      <td>14005.000000</td>\n",
       "      <td>5289.000000</td>\n",
       "    </tr>\n",
       "    <tr>\n",
       "      <th>mean</th>\n",
       "      <td>60.110518</td>\n",
       "      <td>55.951097</td>\n",
       "    </tr>\n",
       "    <tr>\n",
       "      <th>std</th>\n",
       "      <td>22.418485</td>\n",
       "      <td>19.081758</td>\n",
       "    </tr>\n",
       "    <tr>\n",
       "      <th>min</th>\n",
       "      <td>9.659576</td>\n",
       "      <td>0.046369</td>\n",
       "    </tr>\n",
       "    <tr>\n",
       "      <th>25%</th>\n",
       "      <td>48.973027</td>\n",
       "      <td>43.906347</td>\n",
       "    </tr>\n",
       "    <tr>\n",
       "      <th>50%</th>\n",
       "      <td>55.373885</td>\n",
       "      <td>50.841029</td>\n",
       "    </tr>\n",
       "    <tr>\n",
       "      <th>75%</th>\n",
       "      <td>66.080172</td>\n",
       "      <td>62.431047</td>\n",
       "    </tr>\n",
       "    <tr>\n",
       "      <th>max</th>\n",
       "      <td>484.967466</td>\n",
       "      <td>392.494040</td>\n",
       "    </tr>\n",
       "  </tbody>\n",
       "</table>\n",
       "</div>"
      ],
      "text/plain": [
       "              train         test\n",
       "count  14005.000000  5289.000000\n",
       "mean      60.110518    55.951097\n",
       "std       22.418485    19.081758\n",
       "min        9.659576     0.046369\n",
       "25%       48.973027    43.906347\n",
       "50%       55.373885    50.841029\n",
       "75%       66.080172    62.431047\n",
       "max      484.967466   392.494040"
      ]
     },
     "execution_count": 32,
     "metadata": {},
     "output_type": "execute_result"
    }
   ],
   "source": [
    "rougher_input_feed_size = pd.concat([train['rougher.input.feed_size'], \n",
    "                                     test['rougher.input.feed_size']], axis=1) \n",
    "rougher_input_feed_size.columns = ['train', 'test']\n",
    "rougher_input_feed_size.describe()"
   ]
  },
  {
   "cell_type": "markdown",
   "metadata": {},
   "source": [
    "Построим график распределения размеров гранул на обучающей и тестовой выборках, отнормируем распределения, чтобы было удобнее сравнивать:"
   ]
  },
  {
   "cell_type": "code",
   "execution_count": 33,
   "metadata": {},
   "outputs": [
    {
     "data": {
      "text/plain": [
       "Text(0.5, 1.0, 'Распределение размеров гранул на обучающей и тестовой выборках (флотация)')"
      ]
     },
     "execution_count": 33,
     "metadata": {},
     "output_type": "execute_result"
    },
    {
     "data": {
      "image/png": "[encoded data removed]",
      "text/plain": [
       "<Figure size 923.375x432 with 1 Axes>"
      ]
     },
     "metadata": {
      "needs_background": "light"
     },
     "output_type": "display_data"
    }
   ],
   "source": [
    "sns.displot(rougher_input_feed_size, legend=True, kind=\"kde\", \n",
    "            common_norm=False, fill=False, height=6, aspect=2)\n",
    "plt.title('Распределение размеров гранул на обучающей и тестовой выборках (флотация)', fontsize=16)"
   ]
  },
  {
   "cell_type": "code",
   "execution_count": 34,
   "metadata": {
    "scrolled": true
   },
   "outputs": [
    {
     "data": {
      "text/html": [
       "<div>\n",
       "<style scoped>\n",
       "    .dataframe tbody tr th:only-of-type {\n",
       "        vertical-align: middle;\n",
       "    }\n",
       "\n",
       "    .dataframe tbody tr th {\n",
       "        vertical-align: top;\n",
       "    }\n",
       "\n",
       "    .dataframe thead th {\n",
       "        text-align: right;\n",
       "    }\n",
       "</style>\n",
       "<table border=\"1\" class=\"dataframe\">\n",
       "  <thead>\n",
       "    <tr style=\"text-align: right;\">\n",
       "      <th></th>\n",
       "      <th>train</th>\n",
       "      <th>test</th>\n",
       "    </tr>\n",
       "  </thead>\n",
       "  <tbody>\n",
       "    <tr>\n",
       "      <th>count</th>\n",
       "      <td>14149.000000</td>\n",
       "      <td>5290.000000</td>\n",
       "    </tr>\n",
       "    <tr>\n",
       "      <th>mean</th>\n",
       "      <td>7.322310</td>\n",
       "      <td>7.266339</td>\n",
       "    </tr>\n",
       "    <tr>\n",
       "      <th>std</th>\n",
       "      <td>0.614062</td>\n",
       "      <td>0.610219</td>\n",
       "    </tr>\n",
       "    <tr>\n",
       "      <th>min</th>\n",
       "      <td>1.080000</td>\n",
       "      <td>5.650000</td>\n",
       "    </tr>\n",
       "    <tr>\n",
       "      <th>25%</th>\n",
       "      <td>6.960000</td>\n",
       "      <td>6.890000</td>\n",
       "    </tr>\n",
       "    <tr>\n",
       "      <th>50%</th>\n",
       "      <td>7.290000</td>\n",
       "      <td>7.250000</td>\n",
       "    </tr>\n",
       "    <tr>\n",
       "      <th>75%</th>\n",
       "      <td>7.700000</td>\n",
       "      <td>7.600000</td>\n",
       "    </tr>\n",
       "    <tr>\n",
       "      <th>max</th>\n",
       "      <td>10.470000</td>\n",
       "      <td>15.500000</td>\n",
       "    </tr>\n",
       "  </tbody>\n",
       "</table>\n",
       "</div>"
      ],
      "text/plain": [
       "              train         test\n",
       "count  14149.000000  5290.000000\n",
       "mean       7.322310     7.266339\n",
       "std        0.614062     0.610219\n",
       "min        1.080000     5.650000\n",
       "25%        6.960000     6.890000\n",
       "50%        7.290000     7.250000\n",
       "75%        7.700000     7.600000\n",
       "max       10.470000    15.500000"
      ]
     },
     "execution_count": 34,
     "metadata": {},
     "output_type": "execute_result"
    }
   ],
   "source": [
    "primary_cleaner_input_feed_size = pd.concat([train['primary_cleaner.input.feed_size'], \n",
    "                                     test['primary_cleaner.input.feed_size']], axis=1) \n",
    "primary_cleaner_input_feed_size.columns = ['train', 'test']\n",
    "primary_cleaner_input_feed_size.describe()"
   ]
  },
  {
   "cell_type": "code",
   "execution_count": 35,
   "metadata": {
    "scrolled": true
   },
   "outputs": [
    {
     "data": {
      "text/plain": [
       "Text(0.5, 1.0, 'Распределение размеров гранул на обучающей и тестовой выборках (первичная очистка)')"
      ]
     },
     "execution_count": 35,
     "metadata": {},
     "output_type": "execute_result"
    },
    {
     "data": {
      "image/png": "[encoded data removed]",
      "text/plain": [
       "<Figure size 923.375x432 with 1 Axes>"
      ]
     },
     "metadata": {
      "needs_background": "light"
     },
     "output_type": "display_data"
    }
   ],
   "source": [
    "sns.displot(primary_cleaner_input_feed_size, legend=True, kind=\"kde\", \n",
    "            common_norm=False, fill=False, height=6, aspect=2)\n",
    "plt.title('Распределение размеров гранул на обучающей и тестовой выборках (первичная очистка)', fontsize=16)"
   ]
  },
  {
   "cell_type": "markdown",
   "metadata": {},
   "source": [
    "В обоих случаях размеры гранул примерно одинаково распределены на обучающей и тестовой выборках. Если сравнивать медианные значения, то перед процессом флотации расхождения в размере гранул около 10%. Перед первичной очисткой медианы размера гранул в обучающей и тестовой выборках, можно сказать, совпадают. Предполагаем, что полученные отличия не существенны и не повлияют на качество модели."
   ]
  },
  {
   "cell_type": "markdown",
   "metadata": {},
   "source": [
    "Исследуем суммарную концентрацию всех веществ на разных стадиях: в сырье, в черновом и финальном концентратах. "
   ]
  },
  {
   "cell_type": "code",
   "execution_count": 37,
   "metadata": {},
   "outputs": [],
   "source": [
    "#создадим новый датасет с данныим о концентрации веществ и просуммируем их концентрацию на разных стадиях\n",
    "concentrate_data = full_data[['date','rougher.input.feed_ag', 'rougher.input.feed_pb', 'rougher.input.feed_sol', 'rougher.input.feed_au', 'rougher.output.concentrate_ag', 'rougher.output.concentrate_pb', 'rougher.output.concentrate_sol', 'rougher.output.concentrate_au', 'final.output.concentrate_ag', 'final.output.concentrate_pb', 'final.output.concentrate_sol', 'final.output.concentrate_au']].copy()\n",
    "concentrate_data['conc_sum_rougher'] = concentrate_data['rougher.input.feed_ag'] + concentrate_data['rougher.input.feed_pb'] + concentrate_data['rougher.input.feed_sol'] + concentrate_data['rougher.input.feed_au']\n",
    "concentrate_data['conc_sum_rougher_out'] = concentrate_data['rougher.output.concentrate_ag'] + concentrate_data['rougher.output.concentrate_pb'] + concentrate_data['rougher.output.concentrate_sol'] + concentrate_data['rougher.output.concentrate_au']\n",
    "concentrate_data['conc_sum_final'] = concentrate_data['final.output.concentrate_ag'] + concentrate_data['final.output.concentrate_pb'] + concentrate_data['final.output.concentrate_sol'] + concentrate_data['final.output.concentrate_au']\n"
   ]
  },
  {
   "cell_type": "code",
   "execution_count": 38,
   "metadata": {
    "scrolled": true
   },
   "outputs": [
    {
     "data": {
      "text/plain": [
       "<AxesSubplot:>"
      ]
     },
     "execution_count": 38,
     "metadata": {},
     "output_type": "execute_result"
    },
    {
     "data": {
      "image/png": "[encoded data removed]",
      "text/plain": [
       "<Figure size 432x288 with 1 Axes>"
      ]
     },
     "metadata": {
      "needs_background": "light"
     },
     "output_type": "display_data"
    }
   ],
   "source": [
    "#построим гистограммы для суммарных концентраций веществ\n",
    "concentrate_data['conc_sum_rougher'].hist(alpha=.3)\n",
    "concentrate_data['conc_sum_rougher_out'].hist(alpha=.3)\n",
    "concentrate_data['conc_sum_final'].hist(alpha=.3)"
   ]
  },
  {
   "cell_type": "markdown",
   "metadata": {},
   "source": [
    "По графикам видим, что в суммарных данных есть нулевые или близкие к нулю значения. Нужно избавиться от наблюдений с такими аномалиями, чтобы они не повлияли на качество модели."
   ]
  },
  {
   "cell_type": "code",
   "execution_count": 39,
   "metadata": {},
   "outputs": [],
   "source": [
    "#создадим датасет с аномальными наблюдениями\n",
    "anomaly = (concentrate_data[['date', 'conc_sum_rougher', 'conc_sum_rougher_out', 'conc_sum_final']]\n",
    "           .copy()\n",
    "           .query('conc_sum_rougher == 0 or conc_sum_rougher_out == 0 or conc_sum_final == 0')\n",
    "           .fillna(0))"
   ]
  },
  {
   "cell_type": "code",
   "execution_count": 40,
   "metadata": {
    "scrolled": true
   },
   "outputs": [
    {
     "data": {
      "text/html": [
       "<div>\n",
       "<style scoped>\n",
       "    .dataframe tbody tr th:only-of-type {\n",
       "        vertical-align: middle;\n",
       "    }\n",
       "\n",
       "    .dataframe tbody tr th {\n",
       "        vertical-align: top;\n",
       "    }\n",
       "\n",
       "    .dataframe thead th {\n",
       "        text-align: right;\n",
       "    }\n",
       "</style>\n",
       "<table border=\"1\" class=\"dataframe\">\n",
       "  <thead>\n",
       "    <tr style=\"text-align: right;\">\n",
       "      <th></th>\n",
       "      <th>date</th>\n",
       "      <th>conc_sum_rougher</th>\n",
       "      <th>conc_sum_rougher_out</th>\n",
       "      <th>conc_sum_final</th>\n",
       "    </tr>\n",
       "  </thead>\n",
       "  <tbody>\n",
       "    <tr>\n",
       "      <th>45</th>\n",
       "      <td>2016-01-16 21:00:00</td>\n",
       "      <td>58.602038</td>\n",
       "      <td>0.0</td>\n",
       "      <td>66.175996</td>\n",
       "    </tr>\n",
       "    <tr>\n",
       "      <th>46</th>\n",
       "      <td>2016-01-16 22:00:00</td>\n",
       "      <td>59.921613</td>\n",
       "      <td>0.0</td>\n",
       "      <td>66.794250</td>\n",
       "    </tr>\n",
       "    <tr>\n",
       "      <th>47</th>\n",
       "      <td>2016-01-16 23:00:00</td>\n",
       "      <td>0.000000</td>\n",
       "      <td>0.0</td>\n",
       "      <td>67.572604</td>\n",
       "    </tr>\n",
       "    <tr>\n",
       "      <th>48</th>\n",
       "      <td>2016-01-17 00:00:00</td>\n",
       "      <td>25.352358</td>\n",
       "      <td>0.0</td>\n",
       "      <td>0.000000</td>\n",
       "    </tr>\n",
       "    <tr>\n",
       "      <th>49</th>\n",
       "      <td>2016-01-17 02:00:00</td>\n",
       "      <td>40.721375</td>\n",
       "      <td>0.0</td>\n",
       "      <td>0.000000</td>\n",
       "    </tr>\n",
       "  </tbody>\n",
       "</table>\n",
       "</div>"
      ],
      "text/plain": [
       "                   date  conc_sum_rougher  conc_sum_rougher_out  \\\n",
       "45  2016-01-16 21:00:00         58.602038                   0.0   \n",
       "46  2016-01-16 22:00:00         59.921613                   0.0   \n",
       "47  2016-01-16 23:00:00          0.000000                   0.0   \n",
       "48  2016-01-17 00:00:00         25.352358                   0.0   \n",
       "49  2016-01-17 02:00:00         40.721375                   0.0   \n",
       "\n",
       "    conc_sum_final  \n",
       "45       66.175996  \n",
       "46       66.794250  \n",
       "47       67.572604  \n",
       "48        0.000000  \n",
       "49        0.000000  "
      ]
     },
     "execution_count": 40,
     "metadata": {},
     "output_type": "execute_result"
    }
   ],
   "source": [
    "anomaly.head()"
   ]
  },
  {
   "cell_type": "markdown",
   "metadata": {},
   "source": [
    "Избавимся от аномальных значений в тестовой выборке."
   ]
  },
  {
   "cell_type": "code",
   "execution_count": 41,
   "metadata": {},
   "outputs": [],
   "source": [
    "test = test.join(anomaly.set_index('date'), on='date')"
   ]
  },
  {
   "cell_type": "code",
   "execution_count": 42,
   "metadata": {},
   "outputs": [],
   "source": [
    "test[['conc_sum_rougher', 'conc_sum_rougher_out', 'conc_sum_final']] = (test[['conc_sum_rougher', 'conc_sum_rougher_out', 'conc_sum_final']]\n",
    "                                                                    .fillna(-1))"
   ]
  },
  {
   "cell_type": "code",
   "execution_count": 43,
   "metadata": {},
   "outputs": [],
   "source": [
    "test = test.query('conc_sum_rougher == -1 and conc_sum_rougher_out == -1 and conc_sum_final == -1')"
   ]
  },
  {
   "cell_type": "code",
   "execution_count": 44,
   "metadata": {
    "scrolled": true
   },
   "outputs": [
    {
     "data": {
      "text/plain": [
       "<AxesSubplot:>"
      ]
     },
     "execution_count": 44,
     "metadata": {},
     "output_type": "execute_result"
    },
    {
     "data": {
      "image/png": "[encoded data removed]",
      "text/plain": [
       "<Figure size 432x288 with 1 Axes>"
      ]
     },
     "metadata": {
      "needs_background": "light"
     },
     "output_type": "display_data"
    }
   ],
   "source": [
    "#проверим, что все выполнилось правильно - значением всех признаков должно быть -1\n",
    "test['conc_sum_rougher'].hist(alpha=.2)\n",
    "test['conc_sum_rougher_out'].hist(alpha=.2)\n",
    "test['conc_sum_final'].hist(alpha=.2)"
   ]
  },
  {
   "cell_type": "code",
   "execution_count": 45,
   "metadata": {},
   "outputs": [],
   "source": [
    "#избавимся от ненужных столбцов\n",
    "test.drop(['conc_sum_rougher', 'conc_sum_rougher_out', 'conc_sum_final'], axis='columns', inplace=True)"
   ]
  },
  {
   "cell_type": "markdown",
   "metadata": {},
   "source": [
    "Теперь удалим аномальные значения из обучающей выборки."
   ]
  },
  {
   "cell_type": "code",
   "execution_count": 46,
   "metadata": {},
   "outputs": [],
   "source": [
    "train = train.join(anomaly.set_index('date'), on='date')\n",
    "train[['conc_sum_rougher', 'conc_sum_rougher_out', 'conc_sum_final']] = (train[['conc_sum_rougher', 'conc_sum_rougher_out', 'conc_sum_final']]\n",
    "                                                                    .fillna(-1))\n",
    "train = train.query('conc_sum_rougher == -1 and conc_sum_rougher_out == -1 and conc_sum_final == -1')\n",
    "train.drop(['conc_sum_rougher', 'conc_sum_rougher_out', 'conc_sum_final'], axis='columns', inplace=True)"
   ]
  },
  {
   "cell_type": "code",
   "execution_count": 47,
   "metadata": {},
   "outputs": [],
   "source": [
    "#удалим из выборок оставшиеся NaN-значения\n",
    "test.dropna(inplace=True)\n",
    "train.dropna(inplace=True)"
   ]
  },
  {
   "cell_type": "code",
   "execution_count": 48,
   "metadata": {},
   "outputs": [
    {
     "name": "stdout",
     "output_type": "stream",
     "text": [
      "(12434, 55)\n",
      "(5105, 55)\n"
     ]
    }
   ],
   "source": [
    "print(train.shape)\n",
    "print(test.shape)"
   ]
  },
  {
   "cell_type": "markdown",
   "metadata": {},
   "source": [
    "Выборки готовы, можно строить модель."
   ]
  },
  {
   "cell_type": "markdown",
   "metadata": {},
   "source": [
    "## Модель"
   ]
  },
  {
   "cell_type": "markdown",
   "metadata": {},
   "source": [
    "Напишем функцию для рассчета метрики качества модели - sMAPE (Symmetric Mean Absolute Percentage Error)."
   ]
  },
  {
   "cell_type": "code",
   "execution_count": 49,
   "metadata": {},
   "outputs": [],
   "source": [
    "def smape (target, predictions):\n",
    "    return 100/len(target) * np.sum(2 * np.abs(predictions - target) / (np.abs(target) + np.abs(predictions)))"
   ]
  },
  {
   "cell_type": "markdown",
   "metadata": {},
   "source": [
    "А также функцию для рассчета итогового sMAPE."
   ]
  },
  {
   "cell_type": "code",
   "execution_count": 50,
   "metadata": {},
   "outputs": [],
   "source": [
    "def final_smape (rougher, final):\n",
    "    return 0.25 * rougher + 0.75 * final"
   ]
  },
  {
   "cell_type": "markdown",
   "metadata": {},
   "source": [
    "В данном разделе обучим разные модели и оценим их качество кросс-валидацией, чтобы выбрать лучшую модель и проверить её на тестовой выборке."
   ]
  },
  {
   "cell_type": "markdown",
   "metadata": {},
   "source": [
    "Выделим целевой признак в обучающей и тестовой выборках. Столбец с датой нам не нужен для обучения, удалим его."
   ]
  },
  {
   "cell_type": "code",
   "execution_count": 52,
   "metadata": {},
   "outputs": [],
   "source": [
    "# train выборка\n",
    "target_rougher_train = train['rougher.output.recovery']\n",
    "target_final_train = train['final.output.recovery']\n",
    "features_train = train.drop(['date', 'rougher.output.recovery', 'final.output.recovery'], axis=1)\n",
    "\n",
    "# test выборка\n",
    "target_rougher_test = test['rougher.output.recovery']\n",
    "target_final_test = test['final.output.recovery']\n",
    "features_test = test.drop(['date', 'rougher.output.recovery', 'final.output.recovery'], axis=1)"
   ]
  },
  {
   "cell_type": "markdown",
   "metadata": {},
   "source": [
    "Проверим несколько моделей методом кросс-валидации и выберем лучший результат."
   ]
  },
  {
   "cell_type": "code",
   "execution_count": 54,
   "metadata": {},
   "outputs": [],
   "source": [
    "models = [DecisionTreeRegressor(random_state=12345), \n",
    "          RandomForestRegressor(random_state=12345), \n",
    "          LinearRegression()]"
   ]
  },
  {
   "cell_type": "code",
   "execution_count": 58,
   "metadata": {},
   "outputs": [
    {
     "data": {
      "text/html": [
       "<div>\n",
       "<style scoped>\n",
       "    .dataframe tbody tr th:only-of-type {\n",
       "        vertical-align: middle;\n",
       "    }\n",
       "\n",
       "    .dataframe tbody tr th {\n",
       "        vertical-align: top;\n",
       "    }\n",
       "\n",
       "    .dataframe thead th {\n",
       "        text-align: right;\n",
       "    }\n",
       "</style>\n",
       "<table border=\"1\" class=\"dataframe\">\n",
       "  <thead>\n",
       "    <tr style=\"text-align: right;\">\n",
       "      <th></th>\n",
       "      <th>model name</th>\n",
       "      <th>cross_val_score_rougher</th>\n",
       "      <th>cross_val_score_final</th>\n",
       "    </tr>\n",
       "  </thead>\n",
       "  <tbody>\n",
       "    <tr>\n",
       "      <th>0</th>\n",
       "      <td>DecisionTreeRegressor</td>\n",
       "      <td>-9.400225</td>\n",
       "      <td>-17.159565</td>\n",
       "    </tr>\n",
       "    <tr>\n",
       "      <th>1</th>\n",
       "      <td>RandomForestRegressor</td>\n",
       "      <td>-6.292221</td>\n",
       "      <td>-9.489928</td>\n",
       "    </tr>\n",
       "    <tr>\n",
       "      <th>2</th>\n",
       "      <td>LinearRegression</td>\n",
       "      <td>-6.900937</td>\n",
       "      <td>-10.210860</td>\n",
       "    </tr>\n",
       "  </tbody>\n",
       "</table>\n",
       "</div>"
      ],
      "text/plain": [
       "              model name  cross_val_score_rougher  cross_val_score_final\n",
       "0  DecisionTreeRegressor                -9.400225             -17.159565\n",
       "1  RandomForestRegressor                -6.292221              -9.489928\n",
       "2       LinearRegression                -6.900937             -10.210860"
      ]
     },
     "execution_count": 58,
     "metadata": {},
     "output_type": "execute_result"
    }
   ],
   "source": [
    "from sklearn.metrics import make_scorer\n",
    "\n",
    "smape_scorer = make_scorer(smape, greater_is_better=False)\n",
    "\n",
    "results_cross_val = []\n",
    "\n",
    "for model in models: \n",
    "    \n",
    "    scorer = make_scorer(smape, greater_is_better=False) \n",
    "    \n",
    "    cross_val_score_rougher = cross_val_score(model, \n",
    "                                              features_train, \n",
    "                                              target_rougher_train, \n",
    "                                              cv=5, scoring=scorer).mean()\n",
    "    cross_val_score_final = cross_val_score(model, \n",
    "                                            features_train, \n",
    "                                            target_final_train, \n",
    "                                            cv=5, scoring=scorer).mean()\n",
    "\n",
    "    results_cross_val.append({'model name': model.__class__.__name__, \n",
    "                              'cross_val_score_rougher': cross_val_score_rougher, \n",
    "                              'cross_val_score_final': cross_val_score_final}) \n",
    "              \n",
    "pd.DataFrame(results_cross_val)"
   ]
  },
  {
   "cell_type": "code",
   "execution_count": 59,
   "metadata": {
    "scrolled": true
   },
   "outputs": [
    {
     "name": "stdout",
     "output_type": "stream",
     "text": [
      "0:\tlearn: 4.7930629\ttotal: 52ms\tremaining: 52ms\n",
      "1:\tlearn: 4.4186807\ttotal: 56.4ms\tremaining: 0us\n",
      "0:\tlearn: 6.1037871\ttotal: 5.02ms\tremaining: 5.02ms\n",
      "1:\tlearn: 5.8287564\ttotal: 9.14ms\tremaining: 0us\n",
      "0:\tlearn: 5.8552289\ttotal: 4.42ms\tremaining: 4.42ms\n",
      "1:\tlearn: 5.5747750\ttotal: 8.68ms\tremaining: 0us\n"
     ]
    },
    {
     "data": {
      "text/plain": [
       "-1.0979963090015972"
      ]
     },
     "execution_count": 59,
     "metadata": {},
     "output_type": "execute_result"
    }
   ],
   "source": [
    "model= CatBoostRegressor(iterations=2, learning_rate=1, depth=3)\n",
    "cross_val_score(model, features_train, target_rougher, cv=3).mean()"
   ]
  },
  {
   "cell_type": "markdown",
   "metadata": {},
   "source": [
    "Лучший результат показывает модель CatBoost. Обучим её."
   ]
  },
  {
   "cell_type": "markdown",
   "metadata": {},
   "source": [
    "Подготовим features и target для тестовой выборки "
   ]
  },
  {
   "cell_type": "code",
   "execution_count": 60,
   "metadata": {},
   "outputs": [],
   "source": [
    "target_rougher_test = test['rougher.output.recovery']\n",
    "target_final_test = test['final.output.recovery']\n",
    "\n",
    "features_test = test.drop(['date', 'final.output.recovery', 'rougher.output.recovery'], axis='columns')"
   ]
  },
  {
   "cell_type": "markdown",
   "metadata": {},
   "source": [
    "Обучим модель и получим предсказания."
   ]
  },
  {
   "cell_type": "code",
   "execution_count": 61,
   "metadata": {
    "scrolled": true
   },
   "outputs": [
    {
     "name": "stdout",
     "output_type": "stream",
     "text": [
      "0:\tlearn: 6.1164944\ttotal: 7.37ms\tremaining: 7.37ms\n",
      "1:\tlearn: 5.7758110\ttotal: 12.2ms\tremaining: 0us\n",
      "0:\tlearn: 7.5078810\ttotal: 6.7ms\tremaining: 6.7ms\n",
      "1:\tlearn: 7.2350556\ttotal: 13ms\tremaining: 0us\n"
     ]
    }
   ],
   "source": [
    "model = CatBoostRegressor(iterations=2, learning_rate=1, depth=3)\n",
    "model_1 = CatBoostRegressor(iterations=2, learning_rate=1, depth=3)\n",
    "\n",
    "rougher = model.fit(features_train, target_rougher)\n",
    "final = model_1.fit(features_train, target_final)\n",
    "\n",
    "predictions_rougher = rougher.predict(features_test)\n",
    "predictions_final = final.predict(features_test)"
   ]
  },
  {
   "cell_type": "markdown",
   "metadata": {},
   "source": [
    "Посчитаем sMAPE для обоих признаков и итоговый."
   ]
  },
  {
   "cell_type": "code",
   "execution_count": 62,
   "metadata": {},
   "outputs": [],
   "source": [
    "smape_rougher = smape(target_rougher_test, predictions_rougher)"
   ]
  },
  {
   "cell_type": "code",
   "execution_count": 63,
   "metadata": {},
   "outputs": [],
   "source": [
    "smape_final = smape(target_final_test, predictions_final)"
   ]
  },
  {
   "cell_type": "code",
   "execution_count": 64,
   "metadata": {},
   "outputs": [
    {
     "data": {
      "text/plain": [
       "7.14891054156413"
      ]
     },
     "execution_count": 64,
     "metadata": {},
     "output_type": "execute_result"
    }
   ],
   "source": [
    "final_smape(smape_rougher, smape_final)"
   ]
  },
  {
   "cell_type": "markdown",
   "metadata": {},
   "source": [
    "Проверим качество модели, сравнив с константной. Для этого будем использовать модель DummyRegressor."
   ]
  },
  {
   "cell_type": "code",
   "execution_count": 65,
   "metadata": {},
   "outputs": [],
   "source": [
    "dummy = DummyRegressor(strategy='mean')\n",
    "\n",
    "dummy.fit(features_train, target_rougher_train)\n",
    "predictions_rougher_dummy = dummy.predict(features_test)\n",
    "\n",
    "dummy.fit(features_train, target_final_train)\n",
    "predictions_final_dummy = dummy.predict(features_test)"
   ]
  },
  {
   "cell_type": "code",
   "execution_count": 67,
   "metadata": {},
   "outputs": [
    {
     "data": {
      "text/plain": [
       "7.650625408670496"
      ]
     },
     "execution_count": 67,
     "metadata": {},
     "output_type": "execute_result"
    }
   ],
   "source": [
    "smape_rougher_dummy = smape(target_rougher_test, predictions_rougher_dummy)\n",
    "smape_final_dummy = smape(target_final_test, predictions_final_dummy)\n",
    "\n",
    "final_smape(smape_rougher_dummy, smape_final_dummy)"
   ]
  },
  {
   "cell_type": "markdown",
   "metadata": {},
   "source": [
    "Обученная модель предсказывает результат точнее константной. Это говорит о том, что построенная модель адекватна."
   ]
  },
  {
   "cell_type": "markdown",
   "metadata": {},
   "source": [
    "**Вывод:**\n",
    "1. Написали функции для рассчета sMAPE и итогового sMAPE.\n",
    "2. Проверили несколько формул кросс-валидацией.\n",
    "3. Проверили работу модели на тестовой выборке с помощью метрики качества sMAPE и сравнения с константной моделью.\n",
    "4. Подготовили прототип модели машинного обучения для «Цифры»"
   ]
  },
  {
   "cell_type": "code",
   "execution_count": null,
   "metadata": {},
   "outputs": [],
   "source": []
  }
 ],
 "metadata": {
  "ExecuteTimeLog": [
   {
    "duration": 1564,
    "start_time": "2022-06-24T17:42:34.854Z"
   },
   {
    "duration": 3632,
    "start_time": "2022-06-24T17:45:11.410Z"
   },
   {
    "duration": 646,
    "start_time": "2022-06-24T17:51:48.114Z"
   },
   {
    "duration": 39,
    "start_time": "2022-06-24T17:51:56.526Z"
   },
   {
    "duration": 251,
    "start_time": "2022-06-24T17:52:40.839Z"
   },
   {
    "duration": 28,
    "start_time": "2022-06-24T17:52:55.710Z"
   },
   {
    "duration": 35,
    "start_time": "2022-06-24T17:53:19.478Z"
   },
   {
    "duration": 581,
    "start_time": "2022-06-24T17:53:45.700Z"
   },
   {
    "duration": 7,
    "start_time": "2022-06-24T17:55:07.076Z"
   },
   {
    "duration": 21,
    "start_time": "2022-06-24T18:19:54.641Z"
   },
   {
    "duration": 5,
    "start_time": "2022-06-24T18:20:17.898Z"
   },
   {
    "duration": 108,
    "start_time": "2022-06-24T18:20:31.978Z"
   },
   {
    "duration": 3,
    "start_time": "2022-06-24T18:22:25.025Z"
   },
   {
    "duration": 6,
    "start_time": "2022-06-24T18:22:33.610Z"
   },
   {
    "duration": 3,
    "start_time": "2022-06-24T18:24:04.363Z"
   },
   {
    "duration": 2179,
    "start_time": "2022-06-24T18:27:03.461Z"
   },
   {
    "duration": 339,
    "start_time": "2022-06-24T18:31:38.048Z"
   },
   {
    "duration": 501,
    "start_time": "2022-06-24T18:35:50.811Z"
   },
   {
    "duration": 3,
    "start_time": "2022-06-24T18:45:54.347Z"
   },
   {
    "duration": 9,
    "start_time": "2022-06-24T18:49:56.251Z"
   },
   {
    "duration": 3,
    "start_time": "2022-06-24T18:50:17.741Z"
   },
   {
    "duration": 18,
    "start_time": "2022-06-24T18:51:22.949Z"
   },
   {
    "duration": 18,
    "start_time": "2022-06-24T18:56:19.521Z"
   },
   {
    "duration": 43,
    "start_time": "2022-06-24T18:57:37.376Z"
   },
   {
    "duration": 1427,
    "start_time": "2022-06-24T18:57:59.450Z"
   },
   {
    "duration": 779,
    "start_time": "2022-06-24T18:58:04.342Z"
   },
   {
    "duration": 57,
    "start_time": "2022-06-24T18:58:06.246Z"
   },
   {
    "duration": 224,
    "start_time": "2022-06-24T18:58:08.606Z"
   },
   {
    "duration": 31,
    "start_time": "2022-06-24T18:58:09.502Z"
   },
   {
    "duration": 34,
    "start_time": "2022-06-24T18:58:10.286Z"
   },
   {
    "duration": 606,
    "start_time": "2022-06-24T18:58:10.991Z"
   },
   {
    "duration": 10,
    "start_time": "2022-06-24T18:58:11.687Z"
   },
   {
    "duration": 8,
    "start_time": "2022-06-24T18:58:13.750Z"
   },
   {
    "duration": 5,
    "start_time": "2022-06-24T18:58:14.942Z"
   },
   {
    "duration": 9,
    "start_time": "2022-06-24T18:58:15.783Z"
   },
   {
    "duration": 3,
    "start_time": "2022-06-24T18:58:18.518Z"
   },
   {
    "duration": 254,
    "start_time": "2022-06-24T18:58:20.687Z"
   },
   {
    "duration": 2632,
    "start_time": "2022-06-24T18:58:58.607Z"
   },
   {
    "duration": 394,
    "start_time": "2022-06-24T18:59:08.663Z"
   },
   {
    "duration": 536,
    "start_time": "2022-06-24T18:59:13.031Z"
   },
   {
    "duration": 30,
    "start_time": "2022-06-24T19:00:32.232Z"
   },
   {
    "duration": 30,
    "start_time": "2022-06-24T19:01:37.489Z"
   },
   {
    "duration": 24,
    "start_time": "2022-06-24T19:01:51.618Z"
   },
   {
    "duration": 1451,
    "start_time": "2022-06-24T19:03:34.350Z"
   },
   {
    "duration": 793,
    "start_time": "2022-06-24T19:04:53.938Z"
   },
   {
    "duration": 66,
    "start_time": "2022-06-24T19:05:05.555Z"
   },
   {
    "duration": 247,
    "start_time": "2022-06-24T19:05:22.251Z"
   },
   {
    "duration": 38,
    "start_time": "2022-06-24T19:05:29.243Z"
   },
   {
    "duration": 30,
    "start_time": "2022-06-24T19:05:45.084Z"
   },
   {
    "duration": 651,
    "start_time": "2022-06-24T19:05:56.676Z"
   },
   {
    "duration": 8,
    "start_time": "2022-06-24T19:06:17.685Z"
   },
   {
    "duration": 8,
    "start_time": "2022-06-24T19:06:39.948Z"
   },
   {
    "duration": 7,
    "start_time": "2022-06-24T19:06:41.507Z"
   },
   {
    "duration": 6,
    "start_time": "2022-06-24T19:06:42.812Z"
   },
   {
    "duration": 4,
    "start_time": "2022-06-24T19:06:53.749Z"
   },
   {
    "duration": 7,
    "start_time": "2022-06-24T19:08:38.662Z"
   },
   {
    "duration": 1538,
    "start_time": "2022-06-24T19:08:57.917Z"
   },
   {
    "duration": 1514,
    "start_time": "2022-06-24T19:09:18.606Z"
   },
   {
    "duration": 1514,
    "start_time": "2022-06-24T19:09:38.919Z"
   },
   {
    "duration": 4,
    "start_time": "2022-06-24T19:11:18.303Z"
   },
   {
    "duration": 602,
    "start_time": "2022-06-24T19:11:31.511Z"
   },
   {
    "duration": 689,
    "start_time": "2022-06-24T19:11:50.960Z"
   },
   {
    "duration": 126,
    "start_time": "2022-06-24T19:13:00.993Z"
   },
   {
    "duration": 8,
    "start_time": "2022-06-24T19:13:37.032Z"
   },
   {
    "duration": 1291,
    "start_time": "2022-06-24T19:14:11.324Z"
   },
   {
    "duration": 24,
    "start_time": "2022-06-24T19:16:44.811Z"
   },
   {
    "duration": 45,
    "start_time": "2022-06-24T19:17:41.676Z"
   },
   {
    "duration": 1453,
    "start_time": "2022-06-24T19:22:23.346Z"
   },
   {
    "duration": 4262,
    "start_time": "2022-06-24T19:22:36.254Z"
   },
   {
    "duration": 1338,
    "start_time": "2022-06-24T19:37:15.786Z"
   },
   {
    "duration": 690,
    "start_time": "2022-06-24T19:38:47.417Z"
   },
   {
    "duration": 19,
    "start_time": "2022-06-24T19:39:07.504Z"
   },
   {
    "duration": 13,
    "start_time": "2022-06-24T19:41:09.474Z"
   },
   {
    "duration": 4,
    "start_time": "2022-06-24T19:42:16.530Z"
   },
   {
    "duration": 5,
    "start_time": "2022-06-24T19:42:27.914Z"
   },
   {
    "duration": 7,
    "start_time": "2022-06-24T19:43:33.867Z"
   },
   {
    "duration": 5,
    "start_time": "2022-06-24T19:44:07.852Z"
   },
   {
    "duration": 3,
    "start_time": "2022-06-24T19:44:24.339Z"
   },
   {
    "duration": 190,
    "start_time": "2022-06-24T19:44:39.748Z"
   },
   {
    "duration": 179,
    "start_time": "2022-06-24T19:44:54.436Z"
   },
   {
    "duration": 5,
    "start_time": "2022-06-24T19:45:25.941Z"
   },
   {
    "duration": 3,
    "start_time": "2022-06-24T19:46:12.997Z"
   },
   {
    "duration": 100,
    "start_time": "2022-06-24T19:46:40.821Z"
   },
   {
    "duration": 8,
    "start_time": "2022-06-24T19:47:54.790Z"
   },
   {
    "duration": 4,
    "start_time": "2022-06-24T19:48:22.039Z"
   },
   {
    "duration": 11,
    "start_time": "2022-06-24T19:48:35.935Z"
   },
   {
    "duration": 6,
    "start_time": "2022-06-24T19:48:46.215Z"
   },
   {
    "duration": 6,
    "start_time": "2022-06-24T19:48:58.824Z"
   },
   {
    "duration": 13,
    "start_time": "2022-06-24T19:49:35.912Z"
   },
   {
    "duration": 3,
    "start_time": "2022-06-24T19:49:47.688Z"
   },
   {
    "duration": 4,
    "start_time": "2022-06-24T19:50:00.744Z"
   },
   {
    "duration": 4,
    "start_time": "2022-06-24T19:50:45.265Z"
   },
   {
    "duration": 4,
    "start_time": "2022-06-24T19:50:58.721Z"
   },
   {
    "duration": 4,
    "start_time": "2022-06-24T19:51:18.146Z"
   },
   {
    "duration": 3,
    "start_time": "2022-06-24T19:51:33.090Z"
   },
   {
    "duration": 261,
    "start_time": "2022-06-24T19:51:56.498Z"
   },
   {
    "duration": 249,
    "start_time": "2022-06-24T19:52:13.382Z"
   },
   {
    "duration": 275,
    "start_time": "2022-06-24T19:52:29.081Z"
   },
   {
    "duration": 161,
    "start_time": "2022-06-24T19:53:14.931Z"
   },
   {
    "duration": 172,
    "start_time": "2022-06-24T19:53:26.571Z"
   },
   {
    "duration": 161,
    "start_time": "2022-06-24T19:53:41.898Z"
   },
   {
    "duration": 150,
    "start_time": "2022-06-24T19:53:56.668Z"
   },
   {
    "duration": 13,
    "start_time": "2022-06-24T19:55:13.429Z"
   },
   {
    "duration": 177,
    "start_time": "2022-06-24T19:55:26.092Z"
   },
   {
    "duration": 12,
    "start_time": "2022-06-24T19:55:58.180Z"
   },
   {
    "duration": 9,
    "start_time": "2022-06-24T19:56:10.292Z"
   },
   {
    "duration": 7,
    "start_time": "2022-06-24T19:56:40.333Z"
   },
   {
    "duration": 6,
    "start_time": "2022-06-24T19:56:53.925Z"
   },
   {
    "duration": 105,
    "start_time": "2022-06-24T19:57:05.462Z"
   },
   {
    "duration": 165,
    "start_time": "2022-06-24T19:57:18.334Z"
   },
   {
    "duration": 4,
    "start_time": "2022-06-24T19:57:33.677Z"
   },
   {
    "duration": 31,
    "start_time": "2022-06-24T19:58:00.142Z"
   },
   {
    "duration": 12,
    "start_time": "2022-06-24T19:58:10.942Z"
   },
   {
    "duration": 3,
    "start_time": "2022-06-24T19:58:23.670Z"
   },
   {
    "duration": 3,
    "start_time": "2022-06-24T19:59:26.671Z"
   },
   {
    "duration": 3,
    "start_time": "2022-06-24T19:59:59.711Z"
   },
   {
    "duration": 5,
    "start_time": "2022-06-24T20:00:26.112Z"
   },
   {
    "duration": 17,
    "start_time": "2022-06-24T20:00:52.231Z"
   },
   {
    "duration": 1864,
    "start_time": "2022-06-24T20:01:17.768Z"
   },
   {
    "duration": 809,
    "start_time": "2022-06-24T20:01:33.561Z"
   },
   {
    "duration": 2288,
    "start_time": "2022-06-24T20:01:46.985Z"
   },
   {
    "duration": 10377,
    "start_time": "2022-06-24T20:02:11.672Z"
   },
   {
    "duration": 5,
    "start_time": "2022-06-24T20:03:27.473Z"
   },
   {
    "duration": 11,
    "start_time": "2022-06-24T20:03:40.274Z"
   },
   {
    "duration": 853,
    "start_time": "2022-06-24T20:04:06.930Z"
   },
   {
    "duration": 4,
    "start_time": "2022-06-24T20:04:36.987Z"
   },
   {
    "duration": 5,
    "start_time": "2022-06-24T20:04:46.714Z"
   },
   {
    "duration": 4,
    "start_time": "2022-06-24T20:04:58.594Z"
   },
   {
    "duration": 4,
    "start_time": "2022-06-24T20:05:26.419Z"
   },
   {
    "duration": 4,
    "start_time": "2022-06-24T20:05:37.971Z"
   },
   {
    "duration": 4,
    "start_time": "2022-06-24T20:05:49.659Z"
   },
   {
    "duration": 5,
    "start_time": "2022-06-24T20:06:01.971Z"
   },
   {
    "duration": 21613,
    "start_time": "2022-06-24T20:25:09.471Z"
   },
   {
    "duration": 5,
    "start_time": "2022-06-24T20:26:24.191Z"
   },
   {
    "duration": 5,
    "start_time": "2022-06-24T20:26:25.327Z"
   },
   {
    "duration": 4,
    "start_time": "2022-06-24T20:26:26.064Z"
   },
   {
    "duration": 1580,
    "start_time": "2022-06-27T09:44:03.960Z"
   },
   {
    "duration": 1606,
    "start_time": "2022-06-27T09:44:07.602Z"
   },
   {
    "duration": 20,
    "start_time": "2022-06-27T09:44:12.810Z"
   },
   {
    "duration": 12,
    "start_time": "2022-06-27T09:44:19.387Z"
   },
   {
    "duration": 3,
    "start_time": "2022-06-27T09:44:20.674Z"
   },
   {
    "duration": 4,
    "start_time": "2022-06-27T09:44:21.527Z"
   },
   {
    "duration": 3,
    "start_time": "2022-06-27T09:44:23.069Z"
   },
   {
    "duration": 213,
    "start_time": "2022-06-27T09:44:24.252Z"
   },
   {
    "duration": 190,
    "start_time": "2022-06-27T09:44:27.725Z"
   },
   {
    "duration": 6,
    "start_time": "2022-06-27T09:44:29.925Z"
   },
   {
    "duration": 5,
    "start_time": "2022-06-27T09:44:36.339Z"
   },
   {
    "duration": 96,
    "start_time": "2022-06-27T09:44:39.995Z"
   },
   {
    "duration": 8,
    "start_time": "2022-06-27T09:44:45.562Z"
   },
   {
    "duration": 5,
    "start_time": "2022-06-27T09:44:47.065Z"
   },
   {
    "duration": 13,
    "start_time": "2022-06-27T09:44:47.818Z"
   },
   {
    "duration": 6,
    "start_time": "2022-06-27T09:44:48.741Z"
   },
   {
    "duration": 7,
    "start_time": "2022-06-27T09:44:49.252Z"
   },
   {
    "duration": 13,
    "start_time": "2022-06-27T09:44:56.568Z"
   },
   {
    "duration": 2,
    "start_time": "2022-06-27T09:44:59.115Z"
   },
   {
    "duration": 3,
    "start_time": "2022-06-27T09:45:00.166Z"
   },
   {
    "duration": 4,
    "start_time": "2022-06-27T09:47:19.851Z"
   },
   {
    "duration": 4,
    "start_time": "2022-06-27T09:47:21.034Z"
   },
   {
    "duration": 4,
    "start_time": "2022-06-27T09:47:21.881Z"
   },
   {
    "duration": 3,
    "start_time": "2022-06-27T09:47:22.659Z"
   },
   {
    "duration": 246,
    "start_time": "2022-06-27T09:50:57.296Z"
   },
   {
    "duration": 263,
    "start_time": "2022-06-27T09:50:58.609Z"
   },
   {
    "duration": 267,
    "start_time": "2022-06-27T09:51:00.484Z"
   },
   {
    "duration": 154,
    "start_time": "2022-06-27T09:51:36.583Z"
   },
   {
    "duration": 168,
    "start_time": "2022-06-27T09:51:40.468Z"
   },
   {
    "duration": 141,
    "start_time": "2022-06-27T09:51:42.859Z"
   },
   {
    "duration": 144,
    "start_time": "2022-06-27T09:51:44.937Z"
   },
   {
    "duration": 19,
    "start_time": "2022-06-27T09:58:10.258Z"
   },
   {
    "duration": 844,
    "start_time": "2022-06-27T09:59:03.170Z"
   },
   {
    "duration": 18,
    "start_time": "2022-06-27T09:59:36.759Z"
   },
   {
    "duration": 786,
    "start_time": "2022-06-27T09:59:58.158Z"
   },
   {
    "duration": 988,
    "start_time": "2022-06-27T10:29:09.654Z"
   },
   {
    "duration": 14,
    "start_time": "2022-06-27T10:29:23.877Z"
   },
   {
    "duration": 161,
    "start_time": "2022-06-27T10:30:51.029Z"
   },
   {
    "duration": 12,
    "start_time": "2022-06-27T10:32:03.770Z"
   },
   {
    "duration": 9,
    "start_time": "2022-06-27T10:32:05.698Z"
   },
   {
    "duration": 8,
    "start_time": "2022-06-27T10:32:10.771Z"
   },
   {
    "duration": 9,
    "start_time": "2022-06-27T10:32:28.689Z"
   },
   {
    "duration": 13,
    "start_time": "2022-06-27T10:32:37.491Z"
   },
   {
    "duration": 147,
    "start_time": "2022-06-27T10:32:45.965Z"
   },
   {
    "duration": 4,
    "start_time": "2022-06-27T10:32:56.960Z"
   },
   {
    "duration": 31,
    "start_time": "2022-06-27T10:33:26.758Z"
   },
   {
    "duration": 12,
    "start_time": "2022-06-27T10:33:33.052Z"
   },
   {
    "duration": 3,
    "start_time": "2022-06-27T10:33:33.861Z"
   },
   {
    "duration": 3,
    "start_time": "2022-06-27T10:33:38.594Z"
   },
   {
    "duration": 3,
    "start_time": "2022-06-27T10:33:40.931Z"
   },
   {
    "duration": 6,
    "start_time": "2022-06-27T10:33:50.797Z"
   },
   {
    "duration": 7,
    "start_time": "2022-06-27T10:42:21.948Z"
   },
   {
    "duration": 10,
    "start_time": "2022-06-27T10:43:59.780Z"
   },
   {
    "duration": 3,
    "start_time": "2022-06-27T10:44:37.941Z"
   },
   {
    "duration": 11,
    "start_time": "2022-06-27T10:45:36.566Z"
   },
   {
    "duration": 11,
    "start_time": "2022-06-27T10:46:35.422Z"
   },
   {
    "duration": 11,
    "start_time": "2022-06-27T10:46:48.390Z"
   },
   {
    "duration": 424469,
    "start_time": "2022-06-27T10:47:18.564Z"
   },
   {
    "duration": 1440,
    "start_time": "2022-06-27T10:56:13.564Z"
   },
   {
    "duration": 6,
    "start_time": "2022-06-27T10:58:25.214Z"
   },
   {
    "duration": 926,
    "start_time": "2022-06-27T10:59:15.565Z"
   },
   {
    "duration": 4,
    "start_time": "2022-06-27T10:59:33.509Z"
   },
   {
    "duration": 5,
    "start_time": "2022-06-27T10:59:34.869Z"
   },
   {
    "duration": 4,
    "start_time": "2022-06-27T10:59:35.405Z"
   },
   {
    "duration": 5,
    "start_time": "2022-06-27T11:00:02.477Z"
   },
   {
    "duration": 13,
    "start_time": "2022-06-27T11:00:29.540Z"
   },
   {
    "duration": 7,
    "start_time": "2022-06-27T11:02:18.298Z"
   }
  ],
  "kernelspec": {
   "display_name": "Python 3 (ipykernel)",
   "language": "python",
   "name": "python3"
  },
  "language_info": {
   "codemirror_mode": {
    "name": "ipython",
    "version": 3
   },
   "file_extension": ".py",
   "mimetype": "text/x-python",
   "name": "python",
   "nbconvert_exporter": "python",
   "pygments_lexer": "ipython3",
   "version": "3.9.12"
  },
  "toc": {
   "base_numbering": 1,
   "nav_menu": {},
   "number_sections": true,
   "sideBar": true,
   "skip_h1_title": true,
   "title_cell": "Содержание",
   "title_sidebar": "Contents",
   "toc_cell": true,
   "toc_position": {
    "height": "calc(100% - 180px)",
    "left": "10px",
    "top": "150px",
    "width": "274.398px"
   },
   "toc_section_display": true,
   "toc_window_display": true
  }
 },
 "nbformat": 4,
 "nbformat_minor": 2
}
